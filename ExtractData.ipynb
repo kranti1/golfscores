{
 "cells": [
  {
   "cell_type": "markdown",
   "metadata": {},
   "source": [
    "# Notebook to run ExtractData.py"
   ]
  },
  {
   "cell_type": "code",
   "execution_count": 112,
   "metadata": {
    "collapsed": false
   },
   "outputs": [],
   "source": [
    "#execfile('/Users/kartiks/Documents/github/GolfScores/ExtractData.py')\n",
    "#execfile('C:\\docs\\github\\golfscores\\ExtractData.py')\n",
    "%matplotlib inline\n",
    "%run ExtractData.py"
   ]
  },
  {
   "cell_type": "code",
   "execution_count": 113,
   "metadata": {
    "collapsed": false
   },
   "outputs": [
    {
     "data": {
      "text/html": [
       "<style>body {\n",
       "    margin: 0;\n",
       "    font-family: Helvetica;\n",
       "}\n",
       "table.dataframe {\n",
       "    border-collapse: collapse;\n",
       "    border: none;\n",
       "}\n",
       "table.dataframe tr {\n",
       "    border: none;\n",
       "}\n",
       "table.dataframe td, table.dataframe th {\n",
       "    margin: 0;\n",
       "    border: 1px solid white;\n",
       "    padding-left: 0.25em;\n",
       "    padding-right: 0.25em;\n",
       "}\n",
       "table.dataframe th:not(:empty) {\n",
       "    background-color: #fec;\n",
       "    text-align: left;\n",
       "    font-weight: normal;\n",
       "}\n",
       "table.dataframe tr:nth-child(2) th:empty {\n",
       "    border-left: none;\n",
       "    border-right: 1px dashed #888;\n",
       "}\n",
       "table.dataframe td {\n",
       "    border: 2px solid #ccf;\n",
       "    background-color: #f4f4ff;\n",
       "}\n",
       "h3 {\n",
       "    color: white;\n",
       "    background-color: black;\n",
       "    padding: 0.5em;\n",
       "}\n",
       "</style>"
      ],
      "text/plain": [
       "<IPython.core.display.HTML object>"
      ]
     },
     "execution_count": 113,
     "metadata": {},
     "output_type": "execute_result"
    }
   ],
   "source": [
    "from IPython.core.display import HTML\n",
    "css = open('style-table.css').read() + open('style-notebook.css').read()\n",
    "HTML('<style>{}</style>'.format(css))"
   ]
  },
  {
   "cell_type": "code",
   "execution_count": 114,
   "metadata": {
    "collapsed": false
   },
   "outputs": [
    {
     "data": {
      "text/html": [
       "<div>\n",
       "<table border=\"1\" class=\"dataframe\">\n",
       "  <thead>\n",
       "    <tr style=\"text-align: right;\">\n",
       "      <th></th>\n",
       "      <th>ATTACK ANG.</th>\n",
       "      <th>BALL SPEED</th>\n",
       "      <th>CARRY</th>\n",
       "      <th>CLUB PATH</th>\n",
       "      <th>CLUB SPEED</th>\n",
       "      <th>DYN. LOFT</th>\n",
       "      <th>FACE ANG.</th>\n",
       "      <th>FACE TO PATH</th>\n",
       "      <th>HEIGHT</th>\n",
       "      <th>LAND. ANG.</th>\n",
       "      <th>LAUNCH ANG.</th>\n",
       "      <th>SMASH FAC.</th>\n",
       "    </tr>\n",
       "  </thead>\n",
       "  <tbody>\n",
       "    <tr>\n",
       "      <th>count</th>\n",
       "      <td>920.000000</td>\n",
       "      <td>1361.000000</td>\n",
       "      <td>1361.000000</td>\n",
       "      <td>875.000000</td>\n",
       "      <td>1361.000000</td>\n",
       "      <td>875.000000</td>\n",
       "      <td>875.000000</td>\n",
       "      <td>844.000000</td>\n",
       "      <td>1308.000000</td>\n",
       "      <td>1308.000000</td>\n",
       "      <td>1308.000000</td>\n",
       "      <td>1308.000000</td>\n",
       "    </tr>\n",
       "    <tr>\n",
       "      <th>mean</th>\n",
       "      <td>0.521522</td>\n",
       "      <td>90.176341</td>\n",
       "      <td>114.480676</td>\n",
       "      <td>0.084457</td>\n",
       "      <td>72.957311</td>\n",
       "      <td>26.575543</td>\n",
       "      <td>0.911657</td>\n",
       "      <td>1.030095</td>\n",
       "      <td>54.332263</td>\n",
       "      <td>37.373318</td>\n",
       "      <td>19.889602</td>\n",
       "      <td>1.229388</td>\n",
       "    </tr>\n",
       "    <tr>\n",
       "      <th>std</th>\n",
       "      <td>2.355193</td>\n",
       "      <td>11.481707</td>\n",
       "      <td>24.479026</td>\n",
       "      <td>2.961154</td>\n",
       "      <td>5.311451</td>\n",
       "      <td>5.344104</td>\n",
       "      <td>6.705778</td>\n",
       "      <td>6.693290</td>\n",
       "      <td>20.255824</td>\n",
       "      <td>9.331642</td>\n",
       "      <td>4.595805</td>\n",
       "      <td>0.137536</td>\n",
       "    </tr>\n",
       "    <tr>\n",
       "      <th>min</th>\n",
       "      <td>-6.600000</td>\n",
       "      <td>5.600000</td>\n",
       "      <td>6.200000</td>\n",
       "      <td>-9.900000</td>\n",
       "      <td>1.400000</td>\n",
       "      <td>3.600000</td>\n",
       "      <td>-25.600000</td>\n",
       "      <td>-19.100000</td>\n",
       "      <td>0.600000</td>\n",
       "      <td>1.900000</td>\n",
       "      <td>1.500000</td>\n",
       "      <td>0.090000</td>\n",
       "    </tr>\n",
       "    <tr>\n",
       "      <th>25%</th>\n",
       "      <td>-0.900000</td>\n",
       "      <td>85.400000</td>\n",
       "      <td>104.900000</td>\n",
       "      <td>-1.800000</td>\n",
       "      <td>71.500000</td>\n",
       "      <td>23.900000</td>\n",
       "      <td>-3.300000</td>\n",
       "      <td>-3.300000</td>\n",
       "      <td>42.675000</td>\n",
       "      <td>33.600000</td>\n",
       "      <td>17.900000</td>\n",
       "      <td>1.180000</td>\n",
       "    </tr>\n",
       "    <tr>\n",
       "      <th>50%</th>\n",
       "      <td>0.400000</td>\n",
       "      <td>91.200000</td>\n",
       "      <td>117.900000</td>\n",
       "      <td>0.000000</td>\n",
       "      <td>73.200000</td>\n",
       "      <td>27.000000</td>\n",
       "      <td>0.700000</td>\n",
       "      <td>0.900000</td>\n",
       "      <td>57.150000</td>\n",
       "      <td>39.800000</td>\n",
       "      <td>20.500000</td>\n",
       "      <td>1.250000</td>\n",
       "    </tr>\n",
       "    <tr>\n",
       "      <th>75%</th>\n",
       "      <td>1.900000</td>\n",
       "      <td>96.500000</td>\n",
       "      <td>128.700000</td>\n",
       "      <td>2.000000</td>\n",
       "      <td>75.000000</td>\n",
       "      <td>29.900000</td>\n",
       "      <td>4.950000</td>\n",
       "      <td>5.400000</td>\n",
       "      <td>69.125000</td>\n",
       "      <td>43.800000</td>\n",
       "      <td>22.800000</td>\n",
       "      <td>1.310000</td>\n",
       "    </tr>\n",
       "    <tr>\n",
       "      <th>max</th>\n",
       "      <td>9.000000</td>\n",
       "      <td>128.700000</td>\n",
       "      <td>195.600000</td>\n",
       "      <td>10.600000</td>\n",
       "      <td>86.100000</td>\n",
       "      <td>38.400000</td>\n",
       "      <td>40.300000</td>\n",
       "      <td>38.600000</td>\n",
       "      <td>107.800000</td>\n",
       "      <td>53.200000</td>\n",
       "      <td>42.200000</td>\n",
       "      <td>1.500000</td>\n",
       "    </tr>\n",
       "  </tbody>\n",
       "</table>\n",
       "</div>"
      ],
      "text/plain": [
       "       ATTACK ANG.   BALL SPEED        CARRY   CLUB PATH   CLUB SPEED  \\\n",
       "count   920.000000  1361.000000  1361.000000  875.000000  1361.000000   \n",
       "mean      0.521522    90.176341   114.480676    0.084457    72.957311   \n",
       "std       2.355193    11.481707    24.479026    2.961154     5.311451   \n",
       "min      -6.600000     5.600000     6.200000   -9.900000     1.400000   \n",
       "25%      -0.900000    85.400000   104.900000   -1.800000    71.500000   \n",
       "50%       0.400000    91.200000   117.900000    0.000000    73.200000   \n",
       "75%       1.900000    96.500000   128.700000    2.000000    75.000000   \n",
       "max       9.000000   128.700000   195.600000   10.600000    86.100000   \n",
       "\n",
       "        DYN. LOFT   FACE ANG.  FACE TO PATH       HEIGHT   LAND. ANG.  \\\n",
       "count  875.000000  875.000000    844.000000  1308.000000  1308.000000   \n",
       "mean    26.575543    0.911657      1.030095    54.332263    37.373318   \n",
       "std      5.344104    6.705778      6.693290    20.255824     9.331642   \n",
       "min      3.600000  -25.600000    -19.100000     0.600000     1.900000   \n",
       "25%     23.900000   -3.300000     -3.300000    42.675000    33.600000   \n",
       "50%     27.000000    0.700000      0.900000    57.150000    39.800000   \n",
       "75%     29.900000    4.950000      5.400000    69.125000    43.800000   \n",
       "max     38.400000   40.300000     38.600000   107.800000    53.200000   \n",
       "\n",
       "       LAUNCH ANG.   SMASH FAC.  \n",
       "count  1308.000000  1308.000000  \n",
       "mean     19.889602     1.229388  \n",
       "std       4.595805     0.137536  \n",
       "min       1.500000     0.090000  \n",
       "25%      17.900000     1.180000  \n",
       "50%      20.500000     1.250000  \n",
       "75%      22.800000     1.310000  \n",
       "max      42.200000     1.500000  "
      ]
     },
     "execution_count": 114,
     "metadata": {},
     "output_type": "execute_result"
    }
   ],
   "source": [
    "combined_df.describe()"
   ]
  },
  {
   "cell_type": "code",
   "execution_count": 115,
   "metadata": {
    "collapsed": false
   },
   "outputs": [
    {
     "data": {
      "text/plain": [
       "array([u'ATTACK ANG.', u'BALL SPEED', u'CARRY', u'CLUB', u'CLUB PATH',\n",
       "       u'CLUB SPEED', u'DATE', u'DYN. LOFT', u'FACE ANG.', u'FACE TO PATH',\n",
       "       u'HEIGHT', u'LAND. ANG.', u'LAUNCH ANG.', u'LOW POINT', 'SHEETNAME',\n",
       "       u'SIDE', u'SIDE TOT.', u'SMASH FAC.', u'SPIN AXIS', u'SPIN LOFT',\n",
       "       u'SPIN RATE', u'STROKE NO', u'SWING DIR.', u'SWING PL.', u'TOTAL'], dtype=object)"
      ]
     },
     "execution_count": 115,
     "metadata": {},
     "output_type": "execute_result"
    }
   ],
   "source": [
    "combined_df.columns.values"
   ]
  },
  {
   "cell_type": "markdown",
   "metadata": {},
   "source": [
    "### Need to convert most of the columns to ints but not all \n",
    " Get the columns headers into a set\n",
    " for each column header if it's not a type we don't want as an int conver it into one.\n",
    " Also see ExtractData.py\n",
    " Need to figuire out how to convert the colum values to a set and then take difference as below. "
   ]
  },
  {
   "cell_type": "code",
   "execution_count": 117,
   "metadata": {
    "collapsed": false
   },
   "outputs": [
    {
     "data": {
      "text/plain": [
       "{'CLUB', 'HEIGHT', 'LAND. ANG.', 'LAUNCH ANG.', 'SIDE'}"
      ]
     },
     "execution_count": 117,
     "metadata": {},
     "output_type": "execute_result"
    }
   ],
   "source": [
    "type_int = set(['HEIGHT' , 'LAND. ANG.' ,'LAUNCH ANG.'])\n",
    "type_other = set(['CLUB' , 'SIDE'])\n",
    "type_all = type_int | type_other\n",
    "type_all"
   ]
  },
  {
   "cell_type": "code",
   "execution_count": 119,
   "metadata": {
    "collapsed": false
   },
   "outputs": [
    {
     "data": {
      "text/plain": [
       "{'HEIGHT', 'LAND. ANG.', 'LAUNCH ANG.'}"
      ]
     },
     "execution_count": 119,
     "metadata": {},
     "output_type": "execute_result"
    }
   ],
   "source": [
    "type_all - type_other"
   ]
  },
  {
   "cell_type": "code",
   "execution_count": 95,
   "metadata": {
    "collapsed": false
   },
   "outputs": [
    {
     "name": "stdout",
     "output_type": "stream",
     "text": [
      "HEIGHT\n",
      "LAND. ANG.\n",
      "LAUNCH ANG.\n"
     ]
    }
   ],
   "source": [
    "for h in type_int:\n",
    "    combined_df[h] = pd.to_numeric(combined_df[h], errors='coerce')\n",
    "    "
   ]
  },
  {
   "cell_type": "code",
   "execution_count": null,
   "metadata": {
    "collapsed": true
   },
   "outputs": [],
   "source": []
  },
  {
   "cell_type": "code",
   "execution_count": 64,
   "metadata": {
    "collapsed": false
   },
   "outputs": [
    {
     "data": {
      "text/plain": [
       "array(['3-6-2015', '3-7 - 4-4', '4-8', '4-11-2015', '4-18-2015',\n",
       "       '4-24-2015', '4-25-2015', '4-29-15', '5-16', '5-30-2015',\n",
       "       '06-13-2015', '07-18-2015', '08-18-2015', '10-10-2015',\n",
       "       '10-24-2015', '11-17-2015', '11-21-2015', '2-27-2016', '3-29-2016',\n",
       "       '4-23-2016'], dtype=object)"
      ]
     },
     "execution_count": 64,
     "metadata": {},
     "output_type": "execute_result"
    }
   ],
   "source": [
    "combined_df.SHEETNAME.unique()"
   ]
  },
  {
   "cell_type": "code",
   "execution_count": 65,
   "metadata": {
    "collapsed": false
   },
   "outputs": [
    {
     "data": {
      "text/plain": [
       "array(['3-6-2015', '3-7 - 4-4', '4-8', '4-11-2015', '4-18-2015',\n",
       "       '4-24-2015', '4-25-2015', '4-29-15', '5-16', '5-30-2015',\n",
       "       '06-13-2015', '07-18-2015', '08-18-2015', '10-10-2015',\n",
       "       '10-24-2015', '11-17-2015', '11-21-2015', '2-27-2016', '3-29-2016',\n",
       "       '4-23-2016'], dtype=object)"
      ]
     },
     "execution_count": 65,
     "metadata": {},
     "output_type": "execute_result"
    }
   ],
   "source": [
    "d = combined_df[combined_df.SHEETNAME == '2-27-2016']\n",
    "combined_df['SHEETNAME'].astype('string').unique()"
   ]
  },
  {
   "cell_type": "code",
   "execution_count": 100,
   "metadata": {
    "collapsed": false
   },
   "outputs": [
    {
     "data": {
      "text/plain": [
       "ATTACK ANG.            float64\n",
       "BALL SPEED             float64\n",
       "CARRY                  float64\n",
       "CLUB                    object\n",
       "CLUB PATH              float64\n",
       "CLUB SPEED             float64\n",
       "DATE            datetime64[ns]\n",
       "DYN. LOFT              float64\n",
       "FACE ANG.              float64\n",
       "FACE TO PATH           float64\n",
       "HEIGHT                 float64\n",
       "LAND. ANG.             float64\n",
       "LAUNCH ANG.            float64\n",
       "LOW POINT               object\n",
       "SHEETNAME               object\n",
       "SIDE                    object\n",
       "SIDE TOT.               object\n",
       "SMASH FAC.             float64\n",
       "SPIN AXIS               object\n",
       "SPIN LOFT               object\n",
       "SPIN RATE               object\n",
       "STROKE NO               object\n",
       "SWING DIR.              object\n",
       "SWING PL.               object\n",
       "TOTAL                   object\n",
       "dtype: object"
      ]
     },
     "execution_count": 100,
     "metadata": {},
     "output_type": "execute_result"
    }
   ],
   "source": [
    "combined_df.dtypes\n"
   ]
  },
  {
   "cell_type": "code",
   "execution_count": 67,
   "metadata": {
    "collapsed": false
   },
   "outputs": [
    {
     "data": {
      "text/plain": [
       "array(['6', 'Dr', '3'], dtype=object)"
      ]
     },
     "execution_count": 67,
     "metadata": {},
     "output_type": "execute_result"
    }
   ],
   "source": [
    "combined_df.CLUB.unique()"
   ]
  },
  {
   "cell_type": "markdown",
   "metadata": {},
   "source": [
    "### Filter out the different Clubs"
   ]
  },
  {
   "cell_type": "code",
   "execution_count": 45,
   "metadata": {
    "collapsed": false
   },
   "outputs": [],
   "source": [
    "hdf = pd.HDFStore('Golf_data.h5')\n",
    "df = combined_df[combined_df.CLUB == 6]\n",
    "hdf.put('I6', df, format = 'table', data_colums=True)\n",
    "df = combined_df[combined_df.CLUB == 6]\n",
    "\n"
   ]
  },
  {
   "cell_type": "code",
   "execution_count": null,
   "metadata": {
    "collapsed": false
   },
   "outputs": [],
   "source": [
    "df[df['DATE'] == '2015-03-06']\n"
   ]
  },
  {
   "cell_type": "code",
   "execution_count": 46,
   "metadata": {
    "collapsed": false
   },
   "outputs": [
    {
     "data": {
      "text/plain": [
       "<class 'pandas.io.pytables.HDFStore'>\n",
       "File path: Golf_data.h5\n",
       "/I6            frame_table  (typ->appendable,nrows->1314,ncols->25,indexers->[index])"
      ]
     },
     "execution_count": 46,
     "metadata": {},
     "output_type": "execute_result"
    }
   ],
   "source": [
    "hdf"
   ]
  },
  {
   "cell_type": "markdown",
   "metadata": {},
   "source": [
    "### Group by Date and remove the  date '2015-04-25' since it has many NAN"
   ]
  },
  {
   "cell_type": "code",
   "execution_count": null,
   "metadata": {
    "collapsed": false
   },
   "outputs": [],
   "source": [
    "bydate = df.groupby('DATE')\n",
    "#bydate = bydate.mean()\n",
    "#bydate.drop(pd.Timestamp('20150424'))"
   ]
  },
  {
   "cell_type": "markdown",
   "metadata": {},
   "source": [
    "TODO: Figure out how to plot the differnet measures, since \"bydate\" above already calculates mean. So need to determine how to drop a row index when you group by. Below will give an Error"
   ]
  },
  {
   "cell_type": "code",
   "execution_count": null,
   "metadata": {
    "collapsed": false
   },
   "outputs": [],
   "source": [
    "\n",
    "bydate.mean()\n",
    "#bydate.min()['TOTAL'].plot()\n",
    "#bydate.max()['TOTAL'].plot()"
   ]
  },
  {
   "cell_type": "code",
   "execution_count": null,
   "metadata": {
    "collapsed": false
   },
   "outputs": [],
   "source": [
    "#bydate['ATTACK ANG.'].plot()\n",
    "#bydate['SWING DIR.'].plot()\n",
    "bydate['TOTAL'].plot()"
   ]
  },
  {
   "cell_type": "code",
   "execution_count": null,
   "metadata": {
    "collapsed": true
   },
   "outputs": [],
   "source": []
  }
 ],
 "metadata": {
  "kernelspec": {
   "display_name": "Python 2",
   "language": "python",
   "name": "python2"
  },
  "language_info": {
   "codemirror_mode": {
    "name": "ipython",
    "version": 2
   },
   "file_extension": ".py",
   "mimetype": "text/x-python",
   "name": "python",
   "nbconvert_exporter": "python",
   "pygments_lexer": "ipython2",
   "version": "2.7.11"
  }
 },
 "nbformat": 4,
 "nbformat_minor": 0
}
