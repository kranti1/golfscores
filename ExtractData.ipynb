{
 "metadata": {
  "name": "",
  "signature": "sha256:c95dd7e7ecf22cf09f5596ca9905b3c8a45218996d7e00078ae53b58e5ebd0b8"
 },
 "nbformat": 3,
 "nbformat_minor": 0,
 "worksheets": [
  {
   "cells": [
    {
     "cell_type": "heading",
     "level": 1,
     "metadata": {},
     "source": [
      "Notebook to run ExtractData.py and understand how to convert the series with \"minus\" signs in unicode to floats"
     ]
    },
    {
     "cell_type": "code",
     "collapsed": false,
     "input": [
      "execfile('/Users/kartiks/Documents/github/GolfScores/ExtractData.py')\n",
      "#execfile('C:\\docs\\github\\golfscores\\ExtractData.py')\n",
      "    "
     ],
     "language": "python",
     "metadata": {},
     "outputs": [
      {
       "output_type": "stream",
       "stream": "stderr",
       "text": [
        "/Users/kartiks/anaconda/lib/python2.7/site-packages/pandas/core/common.py:361: UnicodeWarning: Unicode equal comparison failed to convert both arguments to Unicode - interpreting them as being unequal\n",
        "  mask = arr == x\n"
       ]
      }
     ],
     "prompt_number": 1
    },
    {
     "cell_type": "code",
     "collapsed": false,
     "input": [
      "aa"
     ],
     "language": "python",
     "metadata": {},
     "outputs": [
      {
       "metadata": {},
       "output_type": "pyout",
       "prompt_number": 2,
       "text": [
        "0        \n",
        "1        \n",
        "2        \n",
        "3     2.1\n",
        "4        \n",
        "5    \u20100.2\n",
        "6        \n",
        "7    \u20101.3\n",
        "8        \n",
        "9     5.4\n",
        "Name: ATTACK ANG., dtype: object"
       ]
      }
     ],
     "prompt_number": 2
    },
    {
     "cell_type": "code",
     "collapsed": false,
     "input": [
      "sd"
     ],
     "language": "python",
     "metadata": {},
     "outputs": [
      {
       "metadata": {},
       "output_type": "pyout",
       "prompt_number": 3,
       "text": [
        "0    \u20100.4\n",
        "1    \u20103.1\n",
        "2        \n",
        "3    \u20101.8\n",
        "4    \u20102.3\n",
        "5    \u20104.4\n",
        "6    \u20107.1\n",
        "7    \u20109.0\n",
        "8        \n",
        "9    \u20106.0\n",
        "Name: SWING DIR., dtype: object"
       ]
      }
     ],
     "prompt_number": 3
    },
    {
     "cell_type": "code",
     "collapsed": false,
     "input": [
      "sd[0]"
     ],
     "language": "python",
     "metadata": {},
     "outputs": [
      {
       "metadata": {},
       "output_type": "pyout",
       "prompt_number": 4,
       "text": [
        "u'\\u20100.4'"
       ]
      }
     ],
     "prompt_number": 4
    },
    {
     "cell_type": "heading",
     "level": 4,
     "metadata": {},
     "source": [
      "Tried to replace with a Dash however it seems that this is not happening in the series, but see below, if I reference the sd2[0] element i seem to be able to replace with a '-'.  "
     ]
    },
    {
     "cell_type": "code",
     "collapsed": false,
     "input": [
      "sd2 = sd.replace(u'\\u2010', '-')"
     ],
     "language": "python",
     "metadata": {},
     "outputs": [],
     "prompt_number": 5
    },
    {
     "cell_type": "code",
     "collapsed": false,
     "input": [
      "sd2.replace?"
     ],
     "language": "python",
     "metadata": {},
     "outputs": [],
     "prompt_number": 6
    },
    {
     "cell_type": "code",
     "collapsed": false,
     "input": [
      "sd2[0]"
     ],
     "language": "python",
     "metadata": {},
     "outputs": []
    },
    {
     "cell_type": "code",
     "collapsed": false,
     "input": [
      "sd2[0] = sd2[0].replace(u'\\u2010', '-')"
     ],
     "language": "python",
     "metadata": {},
     "outputs": []
    },
    {
     "cell_type": "code",
     "collapsed": false,
     "input": [
      "sd2[0]"
     ],
     "language": "python",
     "metadata": {},
     "outputs": []
    },
    {
     "cell_type": "code",
     "collapsed": false,
     "input": [
      "float(sd2[0])"
     ],
     "language": "python",
     "metadata": {},
     "outputs": []
    }
   ],
   "metadata": {}
  }
 ]
}